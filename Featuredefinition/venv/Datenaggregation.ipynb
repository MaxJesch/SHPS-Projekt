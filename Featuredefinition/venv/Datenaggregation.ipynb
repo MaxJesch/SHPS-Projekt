{
 "cells": [
  {
   "cell_type": "markdown",
   "metadata": {},
   "source": [
    "Imports"
   ]
  },
  {
   "cell_type": "code",
   "execution_count": 1,
   "metadata": {},
   "outputs": [],
   "source": [
    "# Imports\n",
    "import os\n",
    "import pandas as pd\n",
    "import numpy as np\n",
    "import ipywidgets as widgets\n",
    "from IPython.display import display"
   ]
  },
  {
   "cell_type": "markdown",
   "metadata": {},
   "source": [
    "Variables"
   ]
  },
  {
   "cell_type": "code",
   "execution_count": 20,
   "metadata": {},
   "outputs": [],
   "source": [
    "# path to directory with csv files\n",
    "# origin = original data\n",
    "# filter = directory where to save filteres data\n",
    "# merged = directory where to save merged data\n",
    "directory_origin = \"C:\\\\Users\\\\katri\\\\\\Documents\\\\Studium\\\\Master\\\\2. Semester\\\\Projekt\\\\1_Daten\\\\0_Beispieldaten\\\\Rohdaten\"\n",
    "directory_filtered = \"C:\\\\Users\\\\katri\\\\\\Documents\\\\Studium\\\\Master\\\\2. Semester\\\\Projekt\\\\1_Daten\\\\0_Beispieldaten\\\\Rohdaten_gefiltert\"\n",
    "directory_merged = \"C:\\\\Users\\\\katri\\\\\\Documents\\\\Studium\\\\Master\\\\2. Semester\\\\Projekt\\\\1_Daten\\\\0_Beispieldaten\\\\Rohdaten_gemerged\""
   ]
  },
  {
   "cell_type": "markdown",
   "metadata": {},
   "source": [
    "Functions"
   ]
  },
  {
   "cell_type": "code",
   "execution_count": 10,
   "metadata": {},
   "outputs": [],
   "source": [
    "# function to extract timestamp from filename\n",
    "def get_timestamp_from_filename(filename):\n",
    "    result = filename.split(\"_\")\n",
    "    return result[1]"
   ]
  },
  {
   "cell_type": "code",
   "execution_count": 11,
   "metadata": {},
   "outputs": [],
   "source": [
    "# function that checks if file ist EML file\n",
    "def is_file_type(name, file_type):\n",
    "    if name.find(file_type) != -1:\n",
    "        return True\n",
    "    return False"
   ]
  },
  {
   "cell_type": "code",
   "execution_count": 12,
   "metadata": {},
   "outputs": [],
   "source": [
    "# calculate timestamp with lower and higher value\n",
    "def calculate_ts_real(low, high):\n",
    "    return low + (high*4294967295)"
   ]
  },
  {
   "cell_type": "code",
   "execution_count": 13,
   "metadata": {},
   "outputs": [],
   "source": [
    "# calculate relative timestamp - substract minimum timestamp from every timestamp\n",
    "# in seconds\n",
    "def calculate_ts_relative(ts_real, minimum):\n",
    "    return (ts_real - minimum)"
   ]
  },
  {
   "cell_type": "code",
   "execution_count": 14,
   "metadata": {},
   "outputs": [],
   "source": [
    "def get_filename_by_timestamp(ts, filename_list):\n",
    "    result = \"\"\n",
    "    for name in filename_list:\n",
    "        if ts in name:\n",
    "            result = name\n",
    "    return result"
   ]
  },
  {
   "cell_type": "code",
   "execution_count": 15,
   "metadata": {},
   "outputs": [],
   "source": [
    "# read and process csv file\n",
    "# file_type 0 = fre\n",
    "# file_type 1 = eml\n",
    "def process_file(file_path, file_type):\n",
    "    # read selected columns from csv file to DataFrame\n",
    "    path = os.path.join(directory_origin, file_path)\n",
    "    if file_type == 0:\n",
    "        column_names = ['DeTimestamp.DeTimestampZGT.DeTimestampLow', 'DeTimestamp.DeTimestampZGT.DeTimestampHigh', \n",
    "                        'DeFA_Hoehenwert_VL_00', 'DeFA_Hoehenwert_VR_00',\n",
    "                        'DeFA_Hoehenwert_HL_00','DeFA_Hoehenwert_HR_00']\n",
    "    elif file_type == 1:\n",
    "        column_names = ['DeTimestamp.DeTimestampZGT.DeTimestampLow', 'DeTimestamp.DeTimestampZGT.DeTimestampHigh',\n",
    "                        'DeAccX', 'DeAccY', 'DeAccZ','DeCurvature', 'DeDrivingDirectionPRange', 'DePitchAngle2Gravity',\n",
    "                        'DePitchRate', 'DeRollAngle2Gravity', 'DeRollRate', 'DeVelocityX', 'DeVelocityY', 'DeYawAngle',\n",
    "                        'DeYawRate', 'DePositionX', 'DePositionY', 'DePositionXmm', 'DePositionYmm']\n",
    "    data = pd.read_csv(path, sep=';', skiprows=[1], usecols=column_names)\n",
    "    \n",
    "    # calculate new timestamp\n",
    "    data = data.assign(ts_real=lambda x: calculate_ts_real(x['DeTimestamp.DeTimestampZGT.DeTimestampLow'],\n",
    "                                                           x['DeTimestamp.DeTimestampZGT.DeTimestampHigh']))\n",
    "    ts_minimum = min(data['ts_real'])\n",
    "    data = data.assign(ts_relative=lambda x: calculate_ts_relative(x['ts_real'], ts_minimum))\n",
    "    data = data.drop('DeTimestamp.DeTimestampZGT.DeTimestampLow', 1).\\\n",
    "        drop('DeTimestamp.DeTimestampZGT.DeTimestampHigh', 1).\\\n",
    "        drop('ts_real', 1)\n",
    "    \n",
    "    # filter duplicated lines\n",
    "    data = data.assign(ts_before=data['ts_relative'].shift())\n",
    "    data = data.query('ts_relative != ts_before')\n",
    "    data = data.drop('ts_before', 1)\n",
    "    \n",
    "    return data"
   ]
  },
  {
   "cell_type": "markdown",
   "metadata": {},
   "source": [
    "Code"
   ]
  },
  {
   "cell_type": "code",
   "execution_count": 16,
   "metadata": {},
   "outputs": [
    {
     "name": "stdout",
     "output_type": "stream",
     "text": [
      "Number of eml files:  6\nNumber of fre file:  6\n"
     ]
    }
   ],
   "source": [
    "# get filenames from directory\n",
    "filenames = os.listdir(directory_origin)\n",
    "\n",
    "# split filename list in eml and fre files\n",
    "eml_files = list(filter(lambda n: is_file_type(n, \"EML\"), filenames))\n",
    "fre_files = list(filter(lambda n: is_file_type(n, \"FRe\"), filenames))\n",
    "print(\"Number of eml files: \", len(eml_files))\n",
    "print(\"Number of fre file: \", len(fre_files))\n"
   ]
  },
  {
   "cell_type": "code",
   "execution_count": 17,
   "metadata": {},
   "outputs": [],
   "source": [
    "progress_bar = widgets.IntProgress(\n",
    "    value=0,\n",
    "    min=0,\n",
    "    max=len(eml_files),\n",
    "    step=1,\n",
    "    description='Loading:',\n",
    "    bar_style='', # 'success', 'info', 'warning', 'danger' or ''\n",
    "    orientation='horizontal'\n",
    ")"
   ]
  },
  {
   "cell_type": "code",
   "execution_count": 18,
   "metadata": {},
   "outputs": [
    {
     "data": {
      "text/plain": [
       "IntProgress(value=0, description='Loading:', max=6)"
      ]
     },
     "execution_count": 0,
     "metadata": {},
     "output_type": "execute_result"
    }
   ],
   "source": [
    "# display progress_bar\n",
    "display(progress_bar)"
   ]
  },
  {
   "cell_type": "code",
   "execution_count": 21,
   "metadata": {},
   "outputs": [],
   "source": [
    "# iterate over list with eml_filenames\n",
    "for filename in eml_files:\n",
    "    progress_bar.value += 1\n",
    "    #filename = eml_files[i]\n",
    "\n",
    "    # read eml_file\n",
    "    df_eml = process_file(filename, 1)\n",
    "    \n",
    "    # get timestamp from filename\n",
    "    timestamp = get_timestamp_from_filename(filename)\n",
    "    \n",
    "    # find fre_filename by timestamp\n",
    "    fre_filename = get_filename_by_timestamp(timestamp, fre_files)\n",
    "    \n",
    "    # process fre_file if string is not empty\n",
    "    if fre_filename != \"\":\n",
    "        #process fre file\n",
    "        df_fre = process_file(fre_filename, 0)\n",
    "        \n",
    "        # save both files\n",
    "        df_fre.to_csv(os.path.join(directory_filtered, 'fre_'+timestamp+'.csv'), sep=';', index = False)\n",
    "        df_eml.to_csv(os.path.join(directory_filtered, 'eml_'+timestamp+'.csv'), sep=';', index = False)\n",
    "        \n",
    "        #merge both dataframes to one\n",
    "        data_merge = pd.merge(df_fre, df_eml, on='ts_relative', how='outer').sort_values(by=['ts_relative'])\n",
    "        \n",
    "        # fill empty cells with previous value\n",
    "        data_fillna = data_merge.fillna(method='ffill')\n",
    "        \n",
    "        # save merged and filled data\n",
    "        merged_filename = timestamp + \"_merged.csv\"\n",
    "        data_fillna.to_csv(os.path.join(directory_merged, merged_filename), sep=';', index = False)\n",
    "    else:\n",
    "        print(\"No matching csv file found!\")"
   ]
  },
  {
   "cell_type": "code",
   "execution_count": null,
   "metadata": {},
   "outputs": [],
   "source": []
  }
 ],
 "metadata": {
  "kernelspec": {
   "display_name": "Python 3",
   "language": "python",
   "name": "python3"
  },
  "language_info": {
   "codemirror_mode": {
    "name": "ipython",
    "version": 3
   },
   "file_extension": ".py",
   "mimetype": "text/x-python",
   "name": "python",
   "nbconvert_exporter": "python",
   "pygments_lexer": "ipython3",
   "version": "3.6.5"
  }
 },
 "nbformat": 4,
 "nbformat_minor": 1
}
